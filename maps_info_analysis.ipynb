{
 "cells": [
  {
   "cell_type": "code",
   "execution_count": 2,
   "metadata": {},
   "outputs": [],
   "source": [
    "import matplotlib.pyplot as plt\n",
    "import seaborn as sns\n",
    "sns.set() # Use seaborn's default style to make beautifull graphs\n",
    "\n",
    "import pandas as pd\n",
    "import numpy as np\n",
    "\n",
    "import folium\n",
    "from geopy.geocoders import Nominatim"
   ]
  },
  {
   "cell_type": "code",
   "execution_count": 3,
   "metadata": {},
   "outputs": [],
   "source": [
    "emdat_data = pd.read_excel(\"data/public_emdat_incl_hist_2024-03-26.xlsx\")\n",
    "#emdat_data = pd.read_csv(f\"updated_emdat_data.csv\")"
   ]
  },
  {
   "cell_type": "code",
   "execution_count": 4,
   "metadata": {},
   "outputs": [
    {
     "data": {
      "text/plain": [
       "Index(['DisNo.', 'Historic', 'Classification Key', 'Disaster Group',\n",
       "       'Disaster Subgroup', 'Disaster Type', 'Disaster Subtype',\n",
       "       'External IDs', 'Event Name', 'ISO', 'Country', 'Subregion', 'Region',\n",
       "       'Location', 'Origin', 'Associated Types', 'OFDA/BHA Response', 'Appeal',\n",
       "       'Declaration', 'AID Contribution ('000 US$)', 'Magnitude',\n",
       "       'Magnitude Scale', 'Latitude', 'Longitude', 'River Basin', 'Start Year',\n",
       "       'Start Month', 'Start Day', 'End Year', 'End Month', 'End Day',\n",
       "       'Total Deaths', 'No. Injured', 'No. Affected', 'No. Homeless',\n",
       "       'Total Affected', 'Reconstruction Costs ('000 US$)',\n",
       "       'Reconstruction Costs, Adjusted ('000 US$)',\n",
       "       'Insured Damage ('000 US$)', 'Insured Damage, Adjusted ('000 US$)',\n",
       "       'Total Damage ('000 US$)', 'Total Damage, Adjusted ('000 US$)', 'CPI',\n",
       "       'Admin Units', 'Entry Date', 'Last Update'],\n",
       "      dtype='object')"
      ]
     },
     "execution_count": 4,
     "metadata": {},
     "output_type": "execute_result"
    }
   ],
   "source": [
    "emdat_data.columns"
   ]
  },
  {
   "cell_type": "code",
   "execution_count": 5,
   "metadata": {},
   "outputs": [
    {
     "data": {
      "text/plain": [
       "array(['United States of America', 'Jamaica', 'Japan', 'Türkiye', 'India',\n",
       "       'Cabo Verde', 'Uganda', 'Belgium', 'Guatemala', 'Myanmar',\n",
       "       'Martinique', 'Saint Vincent and the Grenadines', 'Soviet Union',\n",
       "       'China', 'Canada', 'France', 'Comoros', 'Israel',\n",
       "       'Iran (Islamic Republic of)', 'Niger', 'Bangladesh',\n",
       "       'Taiwan (Province of China)', 'Greece', 'Italy', 'Philippines',\n",
       "       'Albania', 'Colombia', 'Chile',\n",
       "       'China, Hong Kong Special Administrative Region',\n",
       "       'United Kingdom of Great Britain and Northern Ireland', 'Germany',\n",
       "       'Romania', 'Indonesia', 'Mexico', 'Haiti', 'Morocco', 'Portugal',\n",
       "       'Pakistan', 'Costa Rica', 'Algeria', 'Burkina Faso', 'Gambia',\n",
       "       'Guinea-Bissau', 'Mali', 'Mauritania', 'Senegal', 'Chad',\n",
       "       'Kazakhstan', 'Spain', 'Peru', 'Tokelau', 'Belarus', 'Bulgaria',\n",
       "       'Netherlands (Kingdom of the)', 'Denmark', 'Puerto Rico',\n",
       "       'New Zealand', 'Anguilla', 'Germany Federal Republic', 'Argentina',\n",
       "       'Ecuador', 'Bahamas', 'Cuba', 'Egypt', 'Jordan', 'Poland',\n",
       "       'Guadeloupe', 'Montserrat', 'Saint Kitts and Nevis', 'Brazil',\n",
       "       'Dominican Republic', 'Czechoslovakia', 'Dominica', 'Nicaragua',\n",
       "       'Fiji', 'Belize', 'Honduras', 'Solomon Islands', 'Armenia',\n",
       "       'Trinidad and Tobago', 'El Salvador', 'Australia', 'Switzerland',\n",
       "       'Norway', 'Republic of Korea', 'Bolivia (Plurinational State of)',\n",
       "       'Papua New Guinea', 'New Caledonia', 'Ghana',\n",
       "       'Venezuela (Bolivarian Republic of)', 'Vanuatu', 'Sudan',\n",
       "       'South Africa', 'Hungary', 'Yemen Arab Republic', 'Cook Islands',\n",
       "       'Ireland', 'Sweden', 'Yugoslavia', 'Libya', 'Tonga',\n",
       "       'Azores Islands', 'Bermuda', 'Réunion',\n",
       "       'Democratic Republic of the Congo', 'Congo', 'Antigua and Barbuda',\n",
       "       'German Democratic Republic', 'Austria', 'Viet Nam', 'Cyprus',\n",
       "       'Iraq', 'Afghanistan', 'Netherlands Antilles', 'Nepal', 'Barbados',\n",
       "       'Lebanon', 'Mozambique', 'Mongolia', 'Sri Lanka', 'Tunisia',\n",
       "       'Finland', 'Canary Islands', 'French Polynesia', 'Niue',\n",
       "       'Saint Lucia', 'Mauritius', 'Ethiopia', 'Somalia', 'Thailand',\n",
       "       'Guam', 'Grenada', 'Paraguay', 'Saudi Arabia', 'Kenya',\n",
       "       'United Republic of Tanzania', 'Madagascar', 'Panama', 'Samoa',\n",
       "       'Wallis and Futuna Islands', 'Malawi', 'Malaysia', 'Togo',\n",
       "       'Syrian Arab Republic', 'Botswana',\n",
       "       \"Lao People's Democratic Republic\", 'American Samoa', 'Uruguay',\n",
       "       'Lesotho', 'Suriname', 'Nigeria', 'Benin', 'Zambia',\n",
       "       'Côte d’Ivoire', 'United Arab Emirates', 'Guyana', 'Cameroon',\n",
       "       'Kiribati', 'Tuvalu', \"People's Democratic Republic of Yemen\",\n",
       "       'Iceland', 'Central African Republic', 'Cambodia', 'Rwanda',\n",
       "       'Sierra Leone', 'Zimbabwe',\n",
       "       'China, Macao Special Administrative Region', 'Oman', 'Djibouti',\n",
       "       'Liberia', 'Maldives', 'Burundi', 'Bahrain', 'Guinea', 'Angola',\n",
       "       'Namibia', 'Eswatini', 'State of Palestine', 'Luxembourg',\n",
       "       'Sao Tome and Principe', 'Bhutan', 'Turks and Caicos Islands',\n",
       "       'Singapore', 'Equatorial Guinea',\n",
       "       \"Democratic People's Republic of Korea\",\n",
       "       'Micronesia (Federated States of)', 'Gabon',\n",
       "       'United States Virgin Islands', 'Georgia', 'Russian Federation',\n",
       "       'Marshall Islands', 'Malta', 'Yemen', 'Ukraine', 'Azerbaijan',\n",
       "       'Kyrgyzstan', 'Tajikistan', 'Croatia', 'Serbia Montenegro',\n",
       "       'Uzbekistan', 'Lithuania', 'Eritrea', 'North Macedonia',\n",
       "       'Turkmenistan', 'Republic of Moldova', 'Estonia', 'Czechia',\n",
       "       'Slovenia', 'Slovakia', 'Seychelles', 'Palau',\n",
       "       'British Virgin Islands', 'French Guiana',\n",
       "       'Bosnia and Herzegovina', 'Kuwait', 'Brunei Darussalam', 'Latvia',\n",
       "       'Timor-Leste', 'Saint Helena', 'Cayman Islands',\n",
       "       'Northern Mariana Islands', 'Serbia', 'Montenegro', 'South Sudan',\n",
       "       'Mayotte', 'Qatar', 'Saint Barthélemy',\n",
       "       'Saint Martin (French Part)', 'Sint Maarten (Dutch part)',\n",
       "       'Curaçao', 'Isle of Man'], dtype=object)"
      ]
     },
     "execution_count": 5,
     "metadata": {},
     "output_type": "execute_result"
    }
   ],
   "source": [
    "# If multiple countries are affected, each will have an entry linked to the same Dis No.\n",
    "emdat_data[\"Country\"].unique()"
   ]
  },
  {
   "cell_type": "code",
   "execution_count": 6,
   "metadata": {},
   "outputs": [
    {
     "data": {
      "text/plain": [
       "array(['Northern America', 'Latin America and the Caribbean',\n",
       "       'Eastern Asia', 'Western Asia', 'Southern Asia',\n",
       "       'Sub-Saharan Africa', 'Western Europe', 'South-eastern Asia',\n",
       "       'Eastern Europe', 'Southern Europe', 'Northern Europe',\n",
       "       'Northern Africa', 'Central Asia', 'Polynesia',\n",
       "       'Australia and New Zealand', 'Melanesia', 'Micronesia'],\n",
       "      dtype=object)"
      ]
     },
     "execution_count": 6,
     "metadata": {},
     "output_type": "execute_result"
    }
   ],
   "source": [
    "emdat_data[\"Subregion\"].unique() "
   ]
  },
  {
   "cell_type": "code",
   "execution_count": 7,
   "metadata": {},
   "outputs": [
    {
     "data": {
      "text/plain": [
       "array(['Americas', 'Asia', 'Africa', 'Europe', 'Oceania'], dtype=object)"
      ]
     },
     "execution_count": 7,
     "metadata": {},
     "output_type": "execute_result"
    }
   ],
   "source": [
    "emdat_data[\"Region\"].unique()"
   ]
  },
  {
   "cell_type": "code",
   "execution_count": 8,
   "metadata": {},
   "outputs": [
    {
     "data": {
      "text/plain": [
       "(0                                        Galveston (Texas)\n",
       " 1                                 Hoboken, New York, Piers\n",
       " 2                                              Saint James\n",
       " 3                                                    Porus\n",
       " 4                                                      NaN\n",
       "                                ...                        \n",
       " 26438                                                Dakha\n",
       " 26439                                                  NaN\n",
       " 26440              Between Santa Rosa de Copan and Gracias\n",
       " 26441                                      Niéna-Koumantou\n",
       " 26442    Boyaca, Cordoba, Cundinamarca, Huila, Santande...\n",
       " Name: Location, Length: 26443, dtype: object,\n",
       " 20361)"
      ]
     },
     "execution_count": 8,
     "metadata": {},
     "output_type": "execute_result"
    }
   ],
   "source": [
    "emdat_data[\"Location\"] , len(emdat_data[\"Location\"].unique())"
   ]
  },
  {
   "cell_type": "code",
   "execution_count": 9,
   "metadata": {},
   "outputs": [
    {
     "data": {
      "text/plain": [
       "Text(0.5, 1.0, 'Percentage of missing values in each column')"
      ]
     },
     "execution_count": 9,
     "metadata": {},
     "output_type": "execute_result"
    },
    {
     "data": {
      "image/png": "[encoded data removed]",
      "text/plain": [
       "<Figure size 640x480 with 1 Axes>"
      ]
     },
     "metadata": {},
     "output_type": "display_data"
    }
   ],
   "source": [
    "columns = [\"Country\",\"Region\",\"Subregion\",\"Location\",\"Latitude\",\"Longitude\"]\n",
    "\n",
    "fig, ax = plt.subplots()\n",
    "sns.barplot(pd.DataFrame(emdat_data[columns].isna().mean()).reset_index().rename(columns={\"index\":\"variable\", 0:\"% of missing values\"}), y=\"variable\", x=\"% of missing values\", ax=ax, hue=\"variable\", legend=False)\n",
    "for i in ax.containers:\n",
    "    ax.bar_label(\n",
    "        i,\n",
    "        fmt=\"{:.3}\",\n",
    "        label_type=\"center\",\n",
    "        bbox=dict(boxstyle=\"round\", facecolor=\"wheat\", alpha=0.7),\n",
    "        padding=10,\n",
    "        fontsize=\"x-small\",\n",
    "    )\n",
    "# set title\n",
    "ax.set_title(\"Percentage of missing values in each column\")"
   ]
  },
  {
   "cell_type": "markdown",
   "metadata": {},
   "source": [
    "We almost don't have longitude and latitulde information, so start by using the disasters that have it\n",
    "Then use locations columns, to obtain that info\n",
    "Then if neither location use the country information with location at the center\n",
    "\n",
    "Good idea to already preprocces all that data before, like add it to a our version of the data, to avoid the need to run when loading the page"
   ]
  },
  {
   "cell_type": "code",
   "execution_count": 10,
   "metadata": {},
   "outputs": [],
   "source": [
    "# Function to geocode location names to latitude and longitude\n",
    "def geocode_location(location,geolocator,extra_info=None):\n",
    "    try:\n",
    "\n",
    "        if extra_info:\n",
    "            query = f\"{extra_info},{location}\"\n",
    "        else:\n",
    "            query = f\"{location}\"\n",
    "        print(query)\n",
    "        location = geolocator.geocode(query)\n",
    "\n",
    "        if location:\n",
    "            print(f\"Geocoded {query} to {location.latitude}, {location.longitude}\")\n",
    "            return location.latitude, location.longitude\n",
    "        else:\n",
    "            print(f\"Could not geocode {location}\")\n",
    "            return None, None\n",
    "    except Exception as e:\n",
    "        print(f\"Error geocoding {location}: {str(e)}\")\n",
    "        return None, None\n",
    "\n",
    "def geocode_locations_and_update(data, info=\"Location\"):    \n",
    "    # Initialize a geocoder\n",
    "    geolocator = Nominatim(user_agent=\"my_geocoder\")\n",
    "\n",
    "    # Apply geocoding to locations with missing latitude and longitude\n",
    "    missing_coords = data[data['Latitude'].isna() | data['Longitude'].isna()]\n",
    "    total_missing = len(missing_coords)\n",
    "    print(f\"Total missing locations to geocode: {total_missing}\")\n",
    "\n",
    "    # Set 'Coordinates Specific' \n",
    "    data.loc[data.index.difference(missing_coords.index), 'Coordinates Specific'] = True\n",
    "\n",
    "    # Reset progress counter\n",
    "    progress_counter = 0\n",
    "\n",
    "    # Save interval\n",
    "    save_interval = 1000\n",
    "    save_counter = 0\n",
    "\n",
    "    # Apply geocoding and track progress\n",
    "    for index, row in missing_coords.iterrows():\n",
    "\n",
    "        # Geocode location\n",
    "        latitude, longitude = geocode_location(row[info], geolocator)\n",
    "\n",
    "        # Update latitude and longitude in DataFrame\n",
    "        data.at[index, 'Latitude'] = latitude\n",
    "        data.at[index, 'Longitude'] = longitude\n",
    "\n",
    "        if info == \"Location\":\n",
    "            data.at[index, 'Coordinates Specific'] = True\n",
    "        else:\n",
    "            data.at[index, 'Coordinates Specific'] = False\n",
    "\n",
    "        # Update progress\n",
    "        progress_counter += 1\n",
    "        print(f\"Progress: {progress_counter}/{total_missing} ({(progress_counter/total_missing)*100:.2f}%), Info get: {latitude}, {longitude}\")\n",
    "\n",
    "        # Check if it's time to save the data\n",
    "        if progress_counter % save_interval == 0:\n",
    "            print(\"Saving progress...\")\n",
    "            # Concatenate with existing data and save to CSV\n",
    "            data.to_csv(f'updated_emdat_data_{save_counter}.csv', index=False)\n",
    "\n",
    "            # Increment save counter\n",
    "            save_counter += 1\n",
    "\n",
    "    # Save the final updated data to a new CSV file\n",
    "    data.to_csv('updated_emdat_data_test.csv', index=False)"
   ]
  },
  {
   "cell_type": "code",
   "execution_count": null,
   "metadata": {},
   "outputs": [],
   "source": [
    "\"\"\"import requests\n",
    "import numpy as np\n",
    "\n",
    "def get_lat_lon_from_address(address: str, country: str = None) -> tuple:\n",
    "    try:\n",
    "        if country:\n",
    "            query = f\"{address}, {country}\"\n",
    "        else:\n",
    "            query = f\"{address}\"\n",
    "        url = f'https://nominatim.openstreetmap.org/search?q={query}&format=json'\n",
    "        response = requests.get(url).json()\n",
    "\n",
    "        if len(response) > 0 :\n",
    "            latitude = float(response[0]['lat'])\n",
    "            longitude = float(response[0]['lon'])\n",
    "            print(f\"Geocoded {query} to {latitude}, {longitude}\")\n",
    "            return latitude, longitude\n",
    "        else:\n",
    "            print(f\"Could not geocode {query}\")\n",
    "            return np.nan, np.nan\n",
    "    except Exception as e:\n",
    "        print(f\"Error geocoding {query}: {str(e)}\")\n",
    "        return np.nan, np.nan\"\"\""
   ]
  },
  {
   "cell_type": "code",
   "execution_count": 16,
   "metadata": {},
   "outputs": [
    {
     "name": "stdout",
     "output_type": "stream",
     "text": [
      "Original total missing locations to geocode: 0\n"
     ]
    },
    {
     "data": {
      "text/plain": [
       "Series([], Name: Country, dtype: object)"
      ]
     },
     "execution_count": 16,
     "metadata": {},
     "output_type": "execute_result"
    }
   ],
   "source": [
    "# Check the number of missing locations of the cvs file\n",
    "data = pd.read_csv(f\"4_emdat_data_all_coord.csv\")\n",
    "\n",
    "# rename country names to match the geopy geocoder\n",
    "# Replace country names to match the geopy geocoder\n",
    "#data.replace({\"Country\": { \"Taiwan (Province of China)\": \"Taiwan\", \"People's Democratic Republic of Yemen\": \"Yemen\", \"Yemen Arab Republic\": \"Yemen\"}}, inplace=True)\n",
    "\n",
    "missing_coords = data[data['Latitude'].isna() | data['Longitude'].isna()]\n",
    "total_missing = len(missing_coords)\n",
    "print(f\"Original total missing locations to geocode: {total_missing}\")\n",
    "\n",
    "# Geocode the missing locations\n",
    "\n",
    "#geocode_locations_and_update(data, info = \"Country\")\n",
    "#geocode_locations_and_update(data, info= \"Location\")\n",
    "\n",
    "missing_coords[\"Country\"]"
   ]
  },
  {
   "cell_type": "code",
   "execution_count": 19,
   "metadata": {},
   "outputs": [
    {
     "data": {
      "text/plain": [
       "array(['Natural', 'Technological'], dtype=object)"
      ]
     },
     "execution_count": 19,
     "metadata": {},
     "output_type": "execute_result"
    }
   ],
   "source": [
    "data[\"Disaster Group\"].unique()"
   ]
  },
  {
   "cell_type": "code",
   "execution_count": 20,
   "metadata": {},
   "outputs": [
    {
     "name": "stdout",
     "output_type": "stream",
     "text": [
      "all 26443\n"
     ]
    },
    {
     "data": {
      "text/plain": [
       "17002"
      ]
     },
     "execution_count": 20,
     "metadata": {},
     "output_type": "execute_result"
    }
   ],
   "source": [
    "# Drop technological disasters\n",
    "print(\"all\",len(data))\n",
    "data = data[data[\"Disaster Group\"] != \"Technological\"]\n",
    "len(data)"
   ]
  },
  {
   "cell_type": "code",
   "execution_count": 22,
   "metadata": {},
   "outputs": [],
   "source": [
    "# Create a map centered around a specific location\n",
    "m = folium.Map(location=[data['Latitude'].mean(), data['Longitude'].mean()], zoom_start=2)\n",
    "\n",
    "# Add markers for each disaster location\n",
    "for index, row in data.iterrows():\n",
    "    folium.Marker([row['Latitude'], row['Longitude']], popup=row['Location'],icon=folium.Icon(icon='info-sign', prefix='glyphicon')).add_to(m)\n",
    "\n",
    "# Save the map to an HTML file\n",
    "m.save('disaster_map.html')"
   ]
  },
  {
   "cell_type": "code",
   "execution_count": 23,
   "metadata": {},
   "outputs": [],
   "source": [
    "from folium.plugins import MarkerCluster\n",
    "\n",
    "# Create a map centered around a specific location\n",
    "m = folium.Map(location=[data['Latitude'].mean(), data['Longitude'].mean()], zoom_start=2)\n",
    "\n",
    "# Initialize a MarkerCluster object\n",
    "marker_cluster = MarkerCluster().add_to(m)\n",
    "\n",
    "# Add markers for each disaster location to the MarkerCluster\n",
    "for index, row in data.iterrows():\n",
    "    folium.Marker([row['Latitude'], row['Longitude']], popup=row['Location'], icon=folium.Icon(icon='info-sign', prefix='glyphicon')).add_to(marker_cluster)\n",
    "\n",
    "# Save the map to an HTML file\n",
    "m.save('disaster_map_clustered.html')\n"
   ]
  },
  {
   "cell_type": "code",
   "execution_count": null,
   "metadata": {},
   "outputs": [],
   "source": []
  }
 ],
 "metadata": {
  "kernelspec": {
   "display_name": "DataViz",
   "language": "python",
   "name": "python3"
  },
  "language_info": {
   "codemirror_mode": {
    "name": "ipython",
    "version": 3
   },
   "file_extension": ".py",
   "mimetype": "text/x-python",
   "name": "python",
   "nbconvert_exporter": "python",
   "pygments_lexer": "ipython3",
   "version": "3.12.2"
  }
 },
 "nbformat": 4,
 "nbformat_minor": 2
}
